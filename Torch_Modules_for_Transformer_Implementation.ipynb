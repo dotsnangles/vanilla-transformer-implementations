{
  "nbformat": 4,
  "nbformat_minor": 0,
  "metadata": {
    "colab": {
      "name": "Torch Modules for Transformer Implementation.ipynb",
      "provenance": [],
      "collapsed_sections": [],
      "authorship_tag": "ABX9TyMSYPnJkIuOHLTaUMgILmZD",
      "include_colab_link": true
    },
    "kernelspec": {
      "name": "python3",
      "display_name": "Python 3"
    },
    "language_info": {
      "name": "python"
    }
  },
  "cells": [
    {
      "cell_type": "markdown",
      "metadata": {
        "id": "view-in-github",
        "colab_type": "text"
      },
      "source": [
        "<a href=\"https://colab.research.google.com/github/dotsnangles/Vanila-Transformer-Implementation/blob/main/Torch_Modules_for_Transformer_Implementation.ipynb\" target=\"_parent\"><img src=\"https://colab.research.google.com/assets/colab-badge.svg\" alt=\"Open In Colab\"/></a>"
      ]
    },
    {
      "cell_type": "code",
      "execution_count": null,
      "metadata": {
        "id": "Nb6_8WJ0TISH"
      },
      "outputs": [],
      "source": [
        "import torch\n",
        "import torch.nn as nn"
      ]
    },
    {
      "cell_type": "code",
      "source": [
        "nn.Linear\n",
        "\n",
        "m = nn.Linear(20, 30)\n",
        "input = torch.randn(128, 20)\n",
        "output = m(input)\n",
        "print(output.size())"
      ],
      "metadata": {
        "colab": {
          "base_uri": "https://localhost:8080/"
        },
        "id": "IfS_tyLDTL9E",
        "outputId": "58949146-78fa-4c43-c99f-43009252a7b3"
      },
      "execution_count": null,
      "outputs": [
        {
          "output_type": "stream",
          "name": "stdout",
          "text": [
            "torch.Size([128, 30])\n"
          ]
        }
      ]
    },
    {
      "cell_type": "code",
      "source": [
        "torch.reshape\n",
        "\n",
        "a = torch.arange(4.)\n",
        "torch.reshape(a, (2, 2))\n",
        "b = torch.tensor([[0, 1], [2, 3]])\n",
        "torch.reshape(b, (-1,))"
      ],
      "metadata": {
        "colab": {
          "base_uri": "https://localhost:8080/"
        },
        "id": "wm9qXc01TOgi",
        "outputId": "7f32b2c8-afa4-440a-e03a-a971078a83c4"
      },
      "execution_count": null,
      "outputs": [
        {
          "output_type": "execute_result",
          "data": {
            "text/plain": [
              "tensor([0, 1, 2, 3])"
            ]
          },
          "metadata": {},
          "execution_count": 19
        }
      ]
    },
    {
      "cell_type": "code",
      "source": [
        "torch.einsum\n",
        "torch.matmul\n",
        "\n",
        "# vector x vector\n",
        "tensor1 = torch.randn(3)\n",
        "tensor2 = torch.randn(3)\n",
        "s = torch.matmul(tensor1, tensor2).size()\n",
        "m = torch.matmul(tensor1, tensor2)\n",
        "print(tensor1)\n",
        "print(tensor2)\n",
        "print(m)\n",
        "print('------------------------------------------------------------')\n",
        "\n",
        "# matrix x vector\n",
        "tensor1 = torch.randn(3, 4)\n",
        "tensor2 = torch.randn(4)\n",
        "s = torch.matmul(tensor1, tensor2).size()\n",
        "m = torch.matmul(tensor1, tensor2)\n",
        "print(tensor1)\n",
        "print(tensor2)\n",
        "print(m)\n",
        "print('------------------------------------------------------------')\n",
        "\n",
        "# batched matrix x broadcasted vector\n",
        "tensor1 = torch.randn(10, 3, 4)\n",
        "tensor2 = torch.randn(4)\n",
        "s = torch.matmul(tensor1, tensor2).size()\n",
        "m = torch.matmul(tensor1, tensor2)\n",
        "print(tensor1)\n",
        "print(tensor2)\n",
        "print(m)\n",
        "print('------------------------------------------------------------')\n",
        "\n",
        "# batched matrix x batched matrix\n",
        "tensor1 = torch.randn(10, 3, 4)\n",
        "tensor2 = torch.randn(10, 4, 5)\n",
        "s = torch.matmul(tensor1, tensor2).size()\n",
        "m = torch.matmul(tensor1, tensor2)\n",
        "print(tensor1)\n",
        "print(tensor2)\n",
        "print(m)\n",
        "print('------------------------------------------------------------')\n",
        "\n",
        "# batched matrix x broadcasted matrix\n",
        "tensor1 = torch.randn(10, 3, 4)\n",
        "tensor2 = torch.randn(4, 5)\n",
        "s = torch.matmul(tensor1, tensor2).size()\n",
        "m = torch.matmul(tensor1, tensor2)\n",
        "print(tensor1)\n",
        "print(tensor2)\n",
        "print(m)"
      ],
      "metadata": {
        "id": "LrxnbB2ITVNh"
      },
      "execution_count": null,
      "outputs": []
    },
    {
      "cell_type": "code",
      "source": [
        "torch.Tensor.masked_fill_\n",
        "\n",
        "# Parameters\n",
        "# mask (BoolTensor) – the boolean mask\n",
        "\n",
        "# value (float) – the value to fill in with\n",
        "\n",
        "# masked_fill_demo.py\n",
        "\n",
        "import torch as T\n",
        "import numpy as np\n",
        "device = T.device(\"cpu\")\n",
        "\n",
        "def my_masker(tsr, msk, v):\n",
        "  res = tsr.clone()\n",
        "  for i in range(len(tsr)):\n",
        "    for j in range(len(tsr[0])):\n",
        "      if msk[i][j] == 0:\n",
        "        res[i][j] = v\n",
        "  return res\n",
        "\n",
        "print(\"\\nBegin masked_fill() demo \")\n",
        "\n",
        "data = np.array([[1.0, 2.0, 3.0],\n",
        "                 [4.0, 5.0, 6.0]], dtype=np.float32)\n",
        "tsr = T.tensor(data, dtype=T.float32).to(device)\n",
        "\n",
        "print(\"\\nThe tensor is:\")\n",
        "print(tsr)\n",
        "\n",
        "msk = np.array([[0, 1, 1],\n",
        "                [1, 0, 1]], dtype=np.uint8)\n",
        "msk = T.tensor(msk, dtype=T.uint8)\n",
        "print(\"\\nThe mask is: \")\n",
        "print(msk)\n",
        "\n",
        "T.set_printoptions(precision=1)\n",
        "result = tsr.masked_fill(msk == 0, 9.9)\n",
        "print(\"\\nThe result of mask_fill(msk==0, 9.9) is: \")\n",
        "print(result)\n",
        "\n",
        "res = my_masker(tsr, msk, 9.9)\n",
        "print(\"\\nThe result using custom masking function is: \")\n",
        "print(res)\n",
        "\n",
        "print(\"\\nEnd demo \")"
      ],
      "metadata": {
        "colab": {
          "base_uri": "https://localhost:8080/"
        },
        "id": "gRzXVPNjTYnm",
        "outputId": "da0a7ac1-8486-4be5-c8f5-694fe123cbe0"
      },
      "execution_count": null,
      "outputs": [
        {
          "output_type": "stream",
          "name": "stdout",
          "text": [
            "\n",
            "Begin masked_fill() demo \n",
            "\n",
            "The tensor is:\n",
            "tensor([[1., 2., 3.],\n",
            "        [4., 5., 6.]])\n",
            "\n",
            "The mask is: \n",
            "tensor([[0, 1, 1],\n",
            "        [1, 0, 1]], dtype=torch.uint8)\n",
            "\n",
            "The result of mask_fill(msk==0, 9.9) is: \n",
            "tensor([[9.9, 2.0, 3.0],\n",
            "        [4.0, 9.9, 6.0]])\n",
            "\n",
            "The result using custom masking function is: \n",
            "tensor([[9.9, 2.0, 3.0],\n",
            "        [4.0, 9.9, 6.0]])\n",
            "\n",
            "End demo \n"
          ]
        }
      ]
    },
    {
      "cell_type": "code",
      "source": [
        "torch.softmax\n",
        "\n",
        "m = nn.Softmax(dim=1)\n",
        "input = torch.randn(2, 3)\n",
        "print(input)\n",
        "output = m(input)\n",
        "print(output)"
      ],
      "metadata": {
        "colab": {
          "base_uri": "https://localhost:8080/"
        },
        "id": "cXBDUaHMTbXf",
        "outputId": "8942297f-8d63-4469-ee29-7e83ebf95d3d"
      },
      "execution_count": null,
      "outputs": [
        {
          "output_type": "stream",
          "name": "stdout",
          "text": [
            "tensor([[ 0.7, -0.2, -1.1],\n",
            "        [-0.8, -0.0,  1.1]])\n",
            "tensor([[0.6, 0.3, 0.1],\n",
            "        [0.1, 0.2, 0.7]])\n"
          ]
        }
      ]
    },
    {
      "cell_type": "code",
      "source": [
        "nn.Embedding\n",
        "\n",
        "# an Embedding module containing 10 tensors of size 3\n",
        "embedding = nn.Embedding(10, 3)\n",
        "\n",
        "# a batch of 2 samples of 4 indices each\n",
        "input = torch.LongTensor([[1,2,4,5],[4,3,2,9]])\n",
        "x = embedding(input)\n",
        "\n",
        "# example with padding_idx\n",
        "embedding = nn.Embedding(10, 3, padding_idx=0)\n",
        "input = torch.LongTensor([[0,2,0,5]])\n",
        "embedding(input)\n",
        "\n",
        "# example of changing `pad` vector\n",
        "padding_idx = 0\n",
        "embedding = nn.Embedding(3, 3, padding_idx=padding_idx)\n",
        "embedding.weight\n",
        "with torch.no_grad():\n",
        "    embedding.weight[padding_idx] = torch.ones(3)\n",
        "embedding.weight"
      ],
      "metadata": {
        "colab": {
          "base_uri": "https://localhost:8080/"
        },
        "id": "Rifhobi8z1Mg",
        "outputId": "fe6f5409-5794-4d7f-ff37-5b33aa9a93e3"
      },
      "execution_count": 86,
      "outputs": [
        {
          "output_type": "stream",
          "name": "stdout",
          "text": [
            "in tensor([[1, 2, 4, 5],\n",
            "        [4, 3, 2, 9]])\n",
            "out tensor([[[-0.6, -1.1, -0.6],\n",
            "         [ 0.8,  1.0, -0.1],\n",
            "         [ 2.4,  0.6, -0.2],\n",
            "         [ 2.2,  0.5, -0.7]],\n",
            "\n",
            "        [[ 2.4,  0.6, -0.2],\n",
            "         [-1.4,  0.9,  0.1],\n",
            "         [ 0.8,  1.0, -0.1],\n",
            "         [ 1.1, -2.5, -0.8]]], grad_fn=<EmbeddingBackward0>)\n"
          ]
        },
        {
          "output_type": "execute_result",
          "data": {
            "text/plain": [
              "Parameter containing:\n",
              "tensor([[ 1.0,  1.0,  1.0],\n",
              "        [ 0.5, -1.0,  1.9],\n",
              "        [ 1.0, -0.6,  0.9]], requires_grad=True)"
            ]
          },
          "metadata": {},
          "execution_count": 86
        }
      ]
    },
    {
      "cell_type": "code",
      "source": [
        "nn.LayerNorm\n",
        "\n",
        "# NLP Example\n",
        "batch, sentence_length, embedding_dim = 20, 5, 10\n",
        "embedding = torch.randn(batch, sentence_length, embedding_dim)\n",
        "layer_norm = nn.LayerNorm(embedding_dim)\n",
        "\n",
        "# Activate module\n",
        "layer_norm(embedding)\n",
        "\n",
        "# Image Example\n",
        "N, C, H, W = 20, 5, 10, 10\n",
        "input = torch.randn(N, C, H, W)\n",
        "# print(input)\n",
        "\n",
        "# Normalize over the last three dimensions (i.e. the channel and spatial dimensions)\n",
        "# as shown in the image below\n",
        "layer_norm = nn.LayerNorm([C, H, W])\n",
        "output = layer_norm(input)\n",
        "# print(output)"
      ],
      "metadata": {
        "id": "u4tLf8OoTcwZ"
      },
      "execution_count": null,
      "outputs": []
    },
    {
      "cell_type": "code",
      "source": [
        "nn.ReLU\n",
        "\n",
        "m = nn.ReLU()\n",
        "input = torch.randn(2)\n",
        "print(input)\n",
        "output = m(input)\n",
        "print(output)\n",
        "\n",
        "# An implementation of CReLU - https://arxiv.org/abs/1603.05201\n",
        "\n",
        "# m = nn.ReLU()\n",
        "# input = torch.randn(2).unsqueeze(0)\n",
        "# output = torch.cat((m(input),m(-input)))"
      ],
      "metadata": {
        "colab": {
          "base_uri": "https://localhost:8080/"
        },
        "id": "v1q7_YcmTguy",
        "outputId": "268e1804-17c3-476b-f5e0-b67ccea8164b"
      },
      "execution_count": null,
      "outputs": [
        {
          "output_type": "stream",
          "name": "stdout",
          "text": [
            "tensor([-1.0414,  0.3116])\n",
            "tensor([0.0000, 0.3116])\n"
          ]
        }
      ]
    },
    {
      "cell_type": "code",
      "source": [
        "nn.Dropout\n",
        "\n",
        "m = nn.Dropout(p=0.2)\n",
        "input = torch.randn(20, 16)\n",
        "output = m(input)\n",
        "print(output)"
      ],
      "metadata": {
        "colab": {
          "base_uri": "https://localhost:8080/"
        },
        "id": "Gde80EdBTkTL",
        "outputId": "110865cd-f475-4081-ba15-f1a79ce44be2"
      },
      "execution_count": null,
      "outputs": [
        {
          "output_type": "stream",
          "name": "stdout",
          "text": [
            "tensor([[-1.6298, -0.1889, -0.0000,  0.5942, -0.0000,  1.2120,  0.6604, -1.2961,\n",
            "         -0.2244, -1.5138, -0.0000, -0.3063,  0.7182, -2.2613, -0.1167,  0.8874],\n",
            "        [-2.1384, -0.8085, -2.2098, -1.2808,  0.2853,  0.0000,  1.3715, -1.3260,\n",
            "          0.2927, -1.0185,  1.8577,  0.9353,  0.9600,  0.0000, -0.7526, -1.4569],\n",
            "        [ 0.0000,  0.0000, -1.1167, -0.2852, -1.1784,  1.1591, -0.0000, -0.0599,\n",
            "          0.0000, -1.7613, -0.7031,  0.5004,  1.0777,  0.5122, -0.5795,  0.0000],\n",
            "        [ 0.0000,  1.1698,  0.6372,  0.0000, -0.5218,  1.2359,  1.3700, -1.4986,\n",
            "          1.9762, -0.4013,  0.4246, -1.2062, -0.6150,  0.6805, -0.2744, -0.1185],\n",
            "        [ 0.0000,  0.2685,  0.5638, -0.0879,  0.0000,  0.7736, -0.6908, -1.2601,\n",
            "         -0.4170, -0.0000,  0.0076, -0.7303,  2.2090,  0.5476,  0.3615,  1.0004],\n",
            "        [ 0.0000, -0.0000,  0.0000,  3.6464,  0.0474, -0.1398, -0.8299,  0.4616,\n",
            "          1.2149,  3.3246, -1.7838,  0.0414, -0.0000, -0.0963,  0.5303, -0.4797],\n",
            "        [-0.3271, -0.5452,  0.1342, -0.4735, -1.1210, -0.2154,  1.3776,  0.9645,\n",
            "         -0.5846, -1.6481, -1.2333,  0.0000,  0.0000,  0.6555, -0.6479,  0.8961],\n",
            "        [ 1.3005,  1.0766, -1.5306, -2.2077, -0.0000,  0.9356,  0.8324, -0.0000,\n",
            "          0.0000,  1.6605,  0.4455, -0.2409,  1.3290, -0.0000,  1.0570,  2.4136],\n",
            "        [-0.0393, -0.0000, -2.2030,  0.5758,  1.1159, -0.6613,  0.4726,  0.3903,\n",
            "          2.0327,  0.8932,  0.4056,  0.9177, -0.6875, -0.0000,  0.9312, -1.6972],\n",
            "        [ 0.7950,  0.2130,  0.8804,  1.4519, -2.6729, -1.9963, -1.5483, -1.8945,\n",
            "          0.0573,  0.0000, -1.3836,  0.0000,  0.0000, -1.7979, -1.4965,  0.0000],\n",
            "        [-0.3310, -2.8029, -0.1167, -0.5513, -0.5434, -1.1458,  0.3680,  0.2367,\n",
            "         -1.3970, -0.3978, -0.3031, -0.4813,  3.0720, -0.0000,  0.1529,  0.2924],\n",
            "        [ 1.0021,  0.2674,  0.7899,  4.0774, -0.0000,  0.3465,  0.4877, -0.0000,\n",
            "         -2.3817,  1.4415, -0.0000,  0.0000, -0.5994,  0.7771, -0.0000, -1.4681],\n",
            "        [ 1.3951,  0.5649, -0.4085, -0.0000, -0.4492,  1.5764, -0.0103,  1.0860,\n",
            "         -0.0474,  0.6392,  1.1263,  0.1395, -0.0000,  0.9289,  0.7209, -0.0000],\n",
            "        [ 1.7679, -1.2016, -1.1299,  1.6114,  0.4741,  0.0000,  1.1935,  0.2145,\n",
            "          0.0000,  2.1315, -0.2802,  1.4211,  1.4382, -0.3409, -2.7108, -0.0130],\n",
            "        [-0.8755,  0.5309,  0.7992, -1.3245, -0.0356, -0.0964, -0.8230, -0.1890,\n",
            "         -0.6636, -1.1221, -2.2840, -0.0000, -0.0000, -0.0000,  0.3927, -1.6807],\n",
            "        [-0.2172, -1.2467, -1.2421, -1.2075,  0.1677,  0.8839, -0.0000,  0.2531,\n",
            "          0.0000,  0.6083, -4.2612, -2.4620,  0.9119, -0.6024,  1.0306,  1.1872],\n",
            "        [-0.6096,  0.4948, -0.7705, -0.0000,  1.4014, -0.3650,  1.3417,  0.3026,\n",
            "          0.0000,  1.3504, -0.6711,  0.3626, -0.5482, -0.3843, -1.3493, -0.8972],\n",
            "        [-0.2859,  0.0000, -0.3856, -1.5766,  0.2041,  0.0000, -2.5074,  1.0738,\n",
            "          1.2003, -1.9231,  0.8472, -0.0000,  1.5540,  0.5053, -0.5920,  1.0585],\n",
            "        [ 0.4235, -0.0065,  0.8543,  1.0209,  1.1811, -2.2484, -1.1634, -2.2252,\n",
            "          0.3113,  0.3183, -0.2057,  0.6954, -0.7234, -0.4142, -1.0277, -1.1945],\n",
            "        [-0.6838, -0.0000,  1.4728, -0.1439, -0.4631,  0.6085, -0.2002, -0.3467,\n",
            "         -0.5965,  0.9654,  2.0669, -0.8548, -0.4177, -0.7687,  0.0662,  0.5105]])\n"
          ]
        }
      ]
    },
    {
      "cell_type": "code",
      "source": [
        "nn.ModuleList\n",
        "\n",
        "# Holds submodules in a list.\n",
        "\n",
        "# ModuleList can be indexed like a regular Python list, but modules it contains are properly registered, and will be visible by all Module methods.\n",
        "\n",
        "class MyModule(nn.Module):\n",
        "    def __init__(self):\n",
        "        super(MyModule, self).__init__()\n",
        "        self.linears = nn.ModuleList([nn.Linear(10, 10) for i in range(10)])\n",
        "\n",
        "    def forward(self, x):\n",
        "        # ModuleList can act as an iterable, or be indexed using ints\n",
        "        for i, l in enumerate(self.linears):\n",
        "            x = self.linears[i // 2](x) + l(x)\n",
        "        return x"
      ],
      "metadata": {
        "colab": {
          "base_uri": "https://localhost:8080/"
        },
        "id": "8kRYx6VLTlra",
        "outputId": "931aa7fd-b9b1-48ab-fd9e-50101d79e83a"
      },
      "execution_count": null,
      "outputs": [
        {
          "output_type": "execute_result",
          "data": {
            "text/plain": [
              "torch.nn.modules.container.ModuleList"
            ]
          },
          "metadata": {},
          "execution_count": 10
        }
      ]
    },
    {
      "cell_type": "code",
      "source": [
        "torch.arange()\n",
        "\n",
        "torch.arange(5)\n",
        "torch.arange(1, 4)\n",
        "torch.arange(1, 2.5, 0.5)"
      ],
      "metadata": {
        "colab": {
          "base_uri": "https://localhost:8080/"
        },
        "id": "5MuTJdSrTrhH",
        "outputId": "1eaf5a75-4bbe-482d-b853-e647d8f1e7dd"
      },
      "execution_count": null,
      "outputs": [
        {
          "output_type": "execute_result",
          "data": {
            "text/plain": [
              "<function _VariableFunctionsClass.arange>"
            ]
          },
          "metadata": {},
          "execution_count": 11
        }
      ]
    },
    {
      "cell_type": "code",
      "source": [
        "torch.Tensor.expand\n",
        "\n",
        "x = torch.tensor([[1], [2], [3]])\n",
        "x.size()\n",
        "x.expand(3, 4)\n",
        "x.expand(-1, 4)   # -1 means not changing the size of that dimension"
      ],
      "metadata": {
        "colab": {
          "base_uri": "https://localhost:8080/"
        },
        "id": "jwuwnXEVTuaX",
        "outputId": "9d581cf5-ae70-4263-8430-b92b4b7c5e87"
      },
      "execution_count": null,
      "outputs": [
        {
          "output_type": "execute_result",
          "data": {
            "text/plain": [
              "tensor([[1, 1, 1, 1],\n",
              "        [2, 2, 2, 2],\n",
              "        [3, 3, 3, 3]])"
            ]
          },
          "metadata": {},
          "execution_count": 79
        }
      ]
    },
    {
      "cell_type": "code",
      "source": [
        "x = torch.arange(0, 6)\n",
        "print(x)\n",
        "x.expand(3, 6)"
      ],
      "metadata": {
        "colab": {
          "base_uri": "https://localhost:8080/"
        },
        "id": "XyCYvj2KowJm",
        "outputId": "7ddba6a0-96c0-40b4-e35f-bee1ccd2b44e"
      },
      "execution_count": null,
      "outputs": [
        {
          "output_type": "stream",
          "name": "stdout",
          "text": [
            "tensor([0, 1, 2, 3, 4, 5])\n"
          ]
        },
        {
          "output_type": "execute_result",
          "data": {
            "text/plain": [
              "tensor([[0, 1, 2, 3, 4, 5],\n",
              "        [0, 1, 2, 3, 4, 5],\n",
              "        [0, 1, 2, 3, 4, 5]])"
            ]
          },
          "metadata": {},
          "execution_count": 82
        }
      ]
    },
    {
      "cell_type": "code",
      "source": [
        "torch.Tensor.unsqueeze\n",
        "\n",
        "x = torch.tensor([1, 2, 3, 4])\n",
        "torch.unsqueeze(x, 0)\n",
        "torch.unsqueeze(x, 1)"
      ],
      "metadata": {
        "colab": {
          "base_uri": "https://localhost:8080/"
        },
        "id": "EiYuJ6DtTwWs",
        "outputId": "05df54b1-0be9-46c2-d701-a6e3b00232cd"
      },
      "execution_count": null,
      "outputs": [
        {
          "output_type": "execute_result",
          "data": {
            "text/plain": [
              "tensor([[1],\n",
              "        [2],\n",
              "        [3],\n",
              "        [4]])"
            ]
          },
          "metadata": {},
          "execution_count": 37
        }
      ]
    },
    {
      "cell_type": "code",
      "source": [
        "torch.tril\n",
        "\n",
        "a = torch.randn(3, 3)\n",
        "a\n",
        "torch.tril(a)\n",
        "\n",
        "b = torch.randn(4, 6)\n",
        "b\n",
        "torch.tril(b, diagonal=1)\n",
        "torch.tril(b, diagonal=-1)\n",
        "torch.tril(b, diagonal=0)"
      ],
      "metadata": {
        "colab": {
          "base_uri": "https://localhost:8080/"
        },
        "id": "4Doh29sgT-zk",
        "outputId": "f8869574-0a97-4e73-9325-10d251d71582"
      },
      "execution_count": null,
      "outputs": [
        {
          "output_type": "execute_result",
          "data": {
            "text/plain": [
              "tensor([[ 0.2433,  0.0000,  0.0000,  0.0000,  0.0000,  0.0000],\n",
              "        [-0.4033,  0.7351,  0.0000,  0.0000,  0.0000,  0.0000],\n",
              "        [-0.9757,  0.6241, -1.5771,  0.0000,  0.0000,  0.0000],\n",
              "        [-0.0357, -0.7708,  1.1375, -0.9052,  0.0000,  0.0000]])"
            ]
          },
          "metadata": {},
          "execution_count": 41
        }
      ]
    },
    {
      "cell_type": "code",
      "source": [
        "torch.tril(b, diagonal=0)"
      ],
      "metadata": {
        "colab": {
          "base_uri": "https://localhost:8080/"
        },
        "id": "4C_ZTFbEXGsa",
        "outputId": "1ff988d6-522b-4a0c-cb2e-95a8d6093e43"
      },
      "execution_count": null,
      "outputs": [
        {
          "output_type": "execute_result",
          "data": {
            "text/plain": [
              "tensor([[ 0.2433,  0.0000,  0.0000,  0.0000,  0.0000,  0.0000],\n",
              "        [-0.4033,  0.7351,  0.0000,  0.0000,  0.0000,  0.0000],\n",
              "        [-0.9757,  0.6241, -1.5771,  0.0000,  0.0000,  0.0000],\n",
              "        [-0.0357, -0.7708,  1.1375, -0.9052,  0.0000,  0.0000]])"
            ]
          },
          "metadata": {},
          "execution_count": 44
        }
      ]
    },
    {
      "cell_type": "code",
      "source": [
        "torch.tril(b, diagonal=1)"
      ],
      "metadata": {
        "colab": {
          "base_uri": "https://localhost:8080/"
        },
        "id": "AEF4rTM8W4oM",
        "outputId": "3a6bf996-6350-4c0e-9924-4cdc2b82f4af"
      },
      "execution_count": null,
      "outputs": [
        {
          "output_type": "execute_result",
          "data": {
            "text/plain": [
              "tensor([[ 0.2433,  0.5793,  0.0000,  0.0000,  0.0000,  0.0000],\n",
              "        [-0.4033,  0.7351, -0.6321,  0.0000,  0.0000,  0.0000],\n",
              "        [-0.9757,  0.6241, -1.5771,  1.4008,  0.0000,  0.0000],\n",
              "        [-0.0357, -0.7708,  1.1375, -0.9052, -0.2328,  0.0000]])"
            ]
          },
          "metadata": {},
          "execution_count": 42
        }
      ]
    },
    {
      "cell_type": "code",
      "source": [
        "torch.tril(b, diagonal=-1)"
      ],
      "metadata": {
        "colab": {
          "base_uri": "https://localhost:8080/"
        },
        "id": "pUVt4Q6yXBC8",
        "outputId": "5a411554-dbfe-4e24-c374-6352ecbfdba2"
      },
      "execution_count": null,
      "outputs": [
        {
          "output_type": "execute_result",
          "data": {
            "text/plain": [
              "tensor([[ 0.0000,  0.0000,  0.0000,  0.0000,  0.0000,  0.0000],\n",
              "        [-0.4033,  0.0000,  0.0000,  0.0000,  0.0000,  0.0000],\n",
              "        [-0.9757,  0.6241,  0.0000,  0.0000,  0.0000,  0.0000],\n",
              "        [-0.0357, -0.7708,  1.1375,  0.0000,  0.0000,  0.0000]])"
            ]
          },
          "metadata": {},
          "execution_count": 43
        }
      ]
    }
  ]
}